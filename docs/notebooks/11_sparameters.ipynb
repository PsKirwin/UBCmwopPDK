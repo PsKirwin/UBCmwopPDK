{
 "cells": [
  {
   "cell_type": "markdown",
   "id": "ec56317b",
   "metadata": {},
   "source": [
    "# Component FDTD simulations\n",
    "\n",
    "Thanks to the GDSFactory plugin you can directly run simulations in different FDTD solvers.\n",
    "\n",
    "See [tutorial](https://gdsfactory.github.io/gdsfactory/plugins_fdtd.html)"
   ]
  },
  {
   "cell_type": "markdown",
   "id": "d6c52ae2",
   "metadata": {},
   "source": [
    "## Tidy3d\n",
    "\n",
    "You can read about the [tidy3d gdsfactory plugin](https://gdsfactory.github.io/gdsfactory/notebooks/plugins/tidy3d/00_tidy3d.html)"
   ]
  },
  {
   "cell_type": "code",
   "execution_count": null,
   "id": "eee58fc5",
   "metadata": {},
   "outputs": [],
   "source": [
    "import gplugins as sim\n",
    "import gplugins.tidy3d as gt\n",
    "\n",
    "import ubcpdk.components as pdk\n",
    "from ubcpdk.config import PATH"
   ]
  },
  {
   "cell_type": "code",
   "execution_count": null,
   "id": "7ea17912",
   "metadata": {},
   "outputs": [],
   "source": [
    "c = pdk.ebeam_y_1550()\n",
    "c.plot()"
   ]
  },
  {
   "cell_type": "code",
   "execution_count": null,
   "id": "aef763d9",
   "metadata": {},
   "outputs": [],
   "source": [
    "sp = gt.write_sparameters(c, filepath=PATH.sparameters / \"ebeam_y_1550_20634f71.npz\")"
   ]
  },
  {
   "cell_type": "code",
   "execution_count": null,
   "id": "97685b47",
   "metadata": {},
   "outputs": [],
   "source": [
    "sp.keys()"
   ]
  },
  {
   "cell_type": "code",
   "execution_count": null,
   "id": "e950a444",
   "metadata": {},
   "outputs": [],
   "source": [
    "sim.plot.plot_sparameters(sp)"
   ]
  },
  {
   "cell_type": "code",
   "execution_count": null,
   "id": "c4186d09",
   "metadata": {},
   "outputs": [],
   "source": [
    "sim.plot.plot_loss1x2(sp)"
   ]
  },
  {
   "cell_type": "code",
   "execution_count": null,
   "id": "430416f2",
   "metadata": {},
   "outputs": [],
   "source": [
    "sim.plot.plot_imbalance1x2(sp)"
   ]
  },
  {
   "cell_type": "markdown",
   "id": "ef830dfa",
   "metadata": {},
   "source": [
    "## Lumerical FDTD\n",
    "\n",
    "You can write the [Sparameters](https://en.wikipedia.org/wiki/Scattering_parameters) for all components in the UBC `ubcpdk.components` PDK using lumerical FDTD plugin in gplugins"
   ]
  },
  {
   "cell_type": "markdown",
   "id": "8042e020",
   "metadata": {},
   "source": [
    "To run simulations uncomment the following lines"
   ]
  },
  {
   "cell_type": "code",
   "execution_count": null,
   "id": "10ee1b6b",
   "metadata": {},
   "outputs": [],
   "source": [
    "import gplugins as sim\n",
    "\n",
    "import ubcpdk.components as pdk"
   ]
  },
  {
   "cell_type": "code",
   "execution_count": null,
   "id": "f9bb4cff",
   "metadata": {
    "lines_to_next_cell": 2
   },
   "outputs": [],
   "source": [
    "for f in [\n",
    "    pdk.bend,\n",
    "    pdk.coupler,\n",
    "    pdk.coupler_ring,\n",
    "    pdk.ebeam_y_1550,\n",
    "    pdk.ebeam_crossing4,\n",
    "]:\n",
    "    component = f()\n",
    "    component.plot_klayout()\n",
    "    # ls.write_sparameters_lumerical(component=component)"
   ]
  },
  {
   "cell_type": "code",
   "execution_count": null,
   "id": "5770b2f0",
   "metadata": {},
   "outputs": [],
   "source": [
    "# sp = ls.read.read_sparameters_lumerical(component=ubcpdk.components.straight())"
   ]
  },
  {
   "cell_type": "code",
   "execution_count": null,
   "id": "f16de245",
   "metadata": {},
   "outputs": [],
   "source": [
    "# sim.plot_sparameters(sp)"
   ]
  }
 ],
 "metadata": {
  "jupytext": {
   "custom_cell_magics": "kql"
  },
  "kernelspec": {
   "display_name": "Python 3 (ipykernel)",
   "language": "python",
   "name": "python3"
  },
  "language_info": {
   "codemirror_mode": {
    "name": "ipython",
    "version": 3
   },
   "file_extension": ".py",
   "mimetype": "text/x-python",
   "name": "python",
   "nbconvert_exporter": "python",
   "pygments_lexer": "ipython3",
   "version": "3.11.5"
  }
 },
 "nbformat": 4,
 "nbformat_minor": 5
}
